{
 "cells": [
  {
   "cell_type": "markdown",
   "metadata": {},
   "source": [
    "###  1-Load and visualise the Dataset"
   ]
  },
  {
   "cell_type": "code",
   "execution_count": null,
   "metadata": {},
   "outputs": [],
   "source": [
    "import pandas as pd\n",
    "import seaborn as sns\n",
    "import matplotlib.pyplot as plt\n",
    "from sklearn.model_selection import train_test_split\n",
    "from sklearn.preprocessing import StandardScaler\n",
    "\n",
    "# Load the datasets\n",
    "train_df = pd.read_excel('train.xlsx',)\n",
    "test_df = pd.read_excel('test.xlsx')\n",
    "\n",
    "# Display the first few rows of the dataset\n",
    "train_df.head()\n",
    "\n",
    "# Display summary statistics\n",
    "train_df.describe()\n",
    "\n",
    "# Plot the distribution of the target variable\n",
    "sns.countplot(x='price_range', data=train_df)\n",
    "plt.title('Distribution of Price Range')\n",
    "plt.xlabel('Price Range')\n",
    "plt.ylabel('Count')\n",
    "plt.show()\n",
    "\n",
    "\n",
    "# Plot RAM vs. Price Range\n",
    "plt.figure(figsize=(10, 6))\n",
    "sns.boxplot(x='price_range', y='ram', data=train_df)\n",
    "plt.title('RAM vs. Price Range')\n",
    "plt.xlabel('Price Range')\n",
    "plt.ylabel('RAM (MB)')\n",
    "plt.show()"
   ]
  },
  {
   "cell_type": "markdown",
   "metadata": {},
   "source": [
    "### 2-Prepare The Dataset"
   ]
  },
  {
   "cell_type": "code",
   "execution_count": null,
   "metadata": {},
   "outputs": [],
   "source": [
    "# Check for missing values\n",
    "print(train_df.isnull().sum())\n",
    "\n",
    "train_df = train_df.dropna()\n",
    "\n",
    "# Feature Engineering\n",
    "# Convert categorical variables to numerical\n",
    "train_df['blue'] = train_df['blue'].astype(int)\n",
    "train_df['dual_sim'] = train_df['dual_sim'].astype(int)\n",
    "train_df['four_g'] = train_df['four_g'].astype(int)\n",
    "train_df['three_g'] = train_df['three_g'].astype(int)\n",
    "train_df['touch_screen'] = train_df['touch_screen'].astype(int)\n",
    "train_df['wifi'] = train_df['wifi'].astype(int)\n",
    "\n",
    "# Split the data\n",
    "X = train_df.drop(['price_range'], axis=1)\n",
    "y = train_df['price_range']\n",
    "X_train, X_val, y_train, y_val = train_test_split(X, y, test_size=0.2, random_state=42)\n",
    "\n",
    "# Normalize the features\n",
    "scaler = StandardScaler()\n",
    "X_train = scaler.fit_transform(X_train)\n",
    "X_val = scaler.transform(X_val)\n"
   ]
  },
  {
   "cell_type": "markdown",
   "metadata": {},
   "source": [
    "### 3-Train The Model"
   ]
  },
  {
   "cell_type": "code",
   "execution_count": null,
   "metadata": {},
   "outputs": [],
   "source": [
    "from sklearn.ensemble import RandomForestClassifier\n",
    "from sklearn.metrics import confusion_matrix, classification_report\n",
    "\n",
    "# Train the model\n",
    "model = RandomForestClassifier(n_estimators=100, random_state=42)\n",
    "model.fit(X_train, y_train)\n",
    "\n",
    "# Evaluate the model\n",
    "y_pred = model.predict(X_val)\n",
    "print(confusion_matrix(y_val, y_pred))\n",
    "print(classification_report(y_val, y_pred))\n"
   ]
  },
  {
   "cell_type": "markdown",
   "metadata": {},
   "source": [
    "### 4-Optimize The Model"
   ]
  },
  {
   "cell_type": "code",
   "execution_count": 18,
   "metadata": {},
   "outputs": [
    {
     "name": "stdout",
     "output_type": "stream",
     "text": [
      "Fitting 3 folds for each of 108 candidates, totalling 324 fits\n",
      "[[96 10  0  0]\n",
      " [ 7 77  5  0]\n",
      " [ 0 14 87  6]\n",
      " [ 0  0  3 94]]\n",
      "              precision    recall  f1-score   support\n",
      "\n",
      "           0       0.93      0.91      0.92       106\n",
      "           1       0.76      0.87      0.81        89\n",
      "           2       0.92      0.81      0.86       107\n",
      "           3       0.94      0.97      0.95        97\n",
      "\n",
      "    accuracy                           0.89       399\n",
      "   macro avg       0.89      0.89      0.89       399\n",
      "weighted avg       0.89      0.89      0.89       399\n",
      "\n"
     ]
    },
    {
     "data": {
      "text/plain": [
       "['scaler.pkl']"
      ]
     },
     "execution_count": 18,
     "metadata": {},
     "output_type": "execute_result"
    }
   ],
   "source": [
    "from sklearn.model_selection import GridSearchCV\n",
    "import joblib\n",
    "\n",
    "# Hyperparameter tuning\n",
    "param_grid = {\n",
    "    'n_estimators': [100, 200, 300],\n",
    "    'max_depth': [None, 10, 20, 30],\n",
    "    'min_samples_split': [2, 5, 10],\n",
    "    'min_samples_leaf': [1, 2, 4]\n",
    "}\n",
    "grid_search = GridSearchCV(estimator=model, param_grid=param_grid, cv=3, n_jobs=-1, verbose=2)\n",
    "grid_search.fit(X_train, y_train)\n",
    "\n",
    "# Best parameters and model evaluation\n",
    "best_model = grid_search.best_estimator_\n",
    "y_pred = best_model.predict(X_val)\n",
    "print(confusion_matrix(y_val, y_pred))\n",
    "print(classification_report(y_val, y_pred))\n",
    "\n",
    "# Save the model\n",
    "joblib.dump(best_model, 'device_price_model.pkl')\n",
    "joblib.dump(scaler, 'scaler.pkl')\n"
   ]
  }
 ],
 "metadata": {
  "kernelspec": {
   "display_name": "Python 3",
   "language": "python",
   "name": "python3"
  },
  "language_info": {
   "codemirror_mode": {
    "name": "ipython",
    "version": 3
   },
   "file_extension": ".py",
   "mimetype": "text/x-python",
   "name": "python",
   "nbconvert_exporter": "python",
   "pygments_lexer": "ipython3",
   "version": "3.10.5"
  }
 },
 "nbformat": 4,
 "nbformat_minor": 2
}
